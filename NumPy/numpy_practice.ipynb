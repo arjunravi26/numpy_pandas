{
 "cells": [
  {
   "cell_type": "markdown",
   "metadata": {},
   "source": [
    "# NumPy Excercise"
   ]
  },
  {
   "cell_type": "code",
   "execution_count": 115,
   "metadata": {},
   "outputs": [],
   "source": [
    "import numpy as np"
   ]
  },
  {
   "cell_type": "markdown",
   "metadata": {},
   "source": [
    "Conditional Filtering: Create a 5x5 matrix with random float values between 0 and 1. Replace all values greater than 0.5 with 1 and the rest with 0.\n"
   ]
  },
  {
   "cell_type": "code",
   "execution_count": 116,
   "metadata": {},
   "outputs": [
    {
     "name": "stdout",
     "output_type": "stream",
     "text": [
      "[[0.42650633 0.91261872 0.0181192  0.33089804 0.14263288]\n",
      " [0.21711938 0.85064389 0.02228879 0.11827933 0.95748616]\n",
      " [0.52773721 0.5370063  0.4259822  0.81404148 0.32872195]\n",
      " [0.41993218 0.89469664 0.02906848 0.27254781 0.57564081]\n",
      " [0.20785195 0.68135907 0.69637732 0.54932766 0.56750295]]\n"
     ]
    },
    {
     "data": {
      "text/plain": [
       "array([[0., 1., 0., 0., 0.],\n",
       "       [0., 1., 0., 0., 1.],\n",
       "       [1., 1., 0., 1., 0.],\n",
       "       [0., 1., 0., 0., 1.],\n",
       "       [0., 1., 1., 1., 1.]])"
      ]
     },
     "execution_count": 116,
     "metadata": {},
     "output_type": "execute_result"
    }
   ],
   "source": [
    "arr = np.random.rand(5, 5)\n",
    "print(arr)\n",
    "arr[arr > 0.5] = 1\n",
    "arr[arr <= 0.5] = 0\n",
    "arr"
   ]
  },
  {
   "cell_type": "markdown",
   "metadata": {},
   "source": [
    "Statistical Analysis: Create a 1000-element array with random integer values between 50 and 150. Compute the following:\n",
    "\n",
    "The mean, median, and standard deviation of the array.\n",
    "The percentage of elements greater than 100."
   ]
  },
  {
   "cell_type": "code",
   "execution_count": 117,
   "metadata": {},
   "outputs": [],
   "source": [
    "from scipy import stats"
   ]
  },
  {
   "cell_type": "markdown",
   "metadata": {},
   "source": [
    "Array Creation"
   ]
  },
  {
   "cell_type": "code",
   "execution_count": 118,
   "metadata": {},
   "outputs": [],
   "source": [
    "arr = np.random.randint(low=50, high=150, size=1000).reshape(10, 100)"
   ]
  },
  {
   "cell_type": "markdown",
   "metadata": {},
   "source": [
    "Mean Median Mode"
   ]
  },
  {
   "cell_type": "code",
   "execution_count": 119,
   "metadata": {},
   "outputs": [
    {
     "name": "stdout",
     "output_type": "stream",
     "text": [
      "Mean of the array is 98.3\n",
      "Median of the array is 97.0\n",
      "Mode of the array is ModeResult(mode=array([70]), count=array([21]))\n"
     ]
    }
   ],
   "source": [
    "print(f\"Mean of the array is {np.mean(arr)}\")\n",
    "print(f\"Median of the array is {np.median(arr)}\")\n",
    "print(f\"Mode of the array is {stats.mode(arr,axis=None,keepdims=True)}\")"
   ]
  },
  {
   "cell_type": "markdown",
   "metadata": {},
   "source": [
    "Percentage of element greather than 100"
   ]
  },
  {
   "cell_type": "code",
   "execution_count": 120,
   "metadata": {},
   "outputs": [
    {
     "data": {
      "text/plain": [
       "45.6"
      ]
     },
     "execution_count": 120,
     "metadata": {},
     "output_type": "execute_result"
    }
   ],
   "source": [
    "arr_greather_100 = arr[arr > 100]\n",
    "(arr_greather_100.size * 100) / 1000"
   ]
  },
  {
   "cell_type": "markdown",
   "metadata": {},
   "source": [
    "Broadcasting Practice: Create a 3x4 matrix with random integers between 1 and 10. Subtract the mean of each row from each element in that row using broadcasting."
   ]
  },
  {
   "cell_type": "code",
   "execution_count": 121,
   "metadata": {},
   "outputs": [
    {
     "name": "stdout",
     "output_type": "stream",
     "text": [
      "[[3 6 5 1]\n",
      " [1 4 6 8]\n",
      " [9 6 6 4]]\n",
      "[3.75 4.75 6.25]\n"
     ]
    },
    {
     "data": {
      "text/plain": [
       "array([[-0.75,  2.25,  1.25, -2.75],\n",
       "       [-3.75, -0.75,  1.25,  3.25],\n",
       "       [ 2.75, -0.25, -0.25, -2.25]])"
      ]
     },
     "execution_count": 121,
     "metadata": {},
     "output_type": "execute_result"
    }
   ],
   "source": [
    "arr = np.random.randint(low=1, high=10, size=(3, 4))\n",
    "print(arr)\n",
    "mean_row = arr.mean(axis=1)\n",
    "print(mean_row)\n",
    "arr - mean_row.reshape(arr.shape[0], -1)"
   ]
  },
  {
   "cell_type": "markdown",
   "metadata": {},
   "source": [
    "Masking and Indexing: Generate a 6x6 array with random integers between 10 and 100. Find and replace all even numbers with their negative value.\n",
    "\n"
   ]
  },
  {
   "cell_type": "code",
   "execution_count": 122,
   "metadata": {},
   "outputs": [
    {
     "data": {
      "text/plain": [
       "array([[-96,  41, -34,  11,  73,  27],\n",
       "       [-42, -58, -42, -10, -40, -76],\n",
       "       [ 59,  67,  37, -36,  53,  53],\n",
       "       [-72, -82,  85,  51,  35, -38],\n",
       "       [ 61, -70, -18, -74, -34, -10],\n",
       "       [-74,  21, -66,  47,  15, -30]])"
      ]
     },
     "execution_count": 122,
     "metadata": {},
     "output_type": "execute_result"
    }
   ],
   "source": [
    "arr = np.random.randint(low=10, high=100, size=(6, 6))\n",
    "arr[arr % 2 == 0] *= -1\n",
    "arr"
   ]
  },
  {
   "cell_type": "markdown",
   "metadata": {},
   "source": [
    "Advanced Slicing"
   ]
  },
  {
   "cell_type": "code",
   "execution_count": 123,
   "metadata": {},
   "outputs": [],
   "source": [
    "array = np.array([[1, 2, 3, 4],\n",
    "                  [5, 6, 7, 8],\n",
    "                  [9, 10, 11, 12],\n",
    "                  [13, 14, 15, 16]])"
   ]
  },
  {
   "cell_type": "markdown",
   "metadata": {},
   "source": [
    "The subarray containing the middle 2x2 section. <br>"
   ]
  },
  {
   "cell_type": "code",
   "execution_count": 124,
   "metadata": {},
   "outputs": [],
   "source": [
    "row = array.shape[0]\n",
    "col = array.shape[1]\n",
    "row_start, row_end = (row//2)-1, (row//2)+1\n",
    "col_start, col_end = (col//2)-1, (col//2)+1"
   ]
  },
  {
   "cell_type": "code",
   "execution_count": 125,
   "metadata": {},
   "outputs": [
    {
     "data": {
      "text/plain": [
       "array([[ 6,  7],\n",
       "       [10, 11]])"
      ]
     },
     "execution_count": 125,
     "metadata": {},
     "output_type": "execute_result"
    }
   ],
   "source": [
    "array[row_start:row_end, col_start:col_end]"
   ]
  },
  {
   "cell_type": "markdown",
   "metadata": {},
   "source": [
    "The elements on the diagonal of the array."
   ]
  },
  {
   "cell_type": "code",
   "execution_count": 126,
   "metadata": {},
   "outputs": [
    {
     "name": "stdout",
     "output_type": "stream",
     "text": [
      "1\n",
      "6\n",
      "11\n",
      "16\n"
     ]
    }
   ],
   "source": [
    "for i in range(array.shape[0]):\n",
    "    print(array[i][i])"
   ]
  },
  {
   "cell_type": "markdown",
   "metadata": {},
   "source": [
    "Reverse the array along its second axis."
   ]
  },
  {
   "cell_type": "code",
   "execution_count": 127,
   "metadata": {},
   "outputs": [
    {
     "data": {
      "text/plain": [
       "array([[ 1,  2,  3,  4],\n",
       "       [ 5,  6,  7,  8],\n",
       "       [ 9, 10, 11, 12],\n",
       "       [13, 14, 15, 16]])"
      ]
     },
     "execution_count": 127,
     "metadata": {},
     "output_type": "execute_result"
    }
   ],
   "source": [
    "array"
   ]
  },
  {
   "cell_type": "code",
   "execution_count": 128,
   "metadata": {},
   "outputs": [
    {
     "data": {
      "text/plain": [
       "array([[ 4,  3,  2,  1],\n",
       "       [ 8,  7,  6,  5],\n",
       "       [12, 11, 10,  9],\n",
       "       [16, 15, 14, 13]])"
      ]
     },
     "execution_count": 128,
     "metadata": {},
     "output_type": "execute_result"
    }
   ],
   "source": [
    "np.flip(array, axis=1)"
   ]
  },
  {
   "cell_type": "markdown",
   "metadata": {},
   "source": [
    "Unique Elements and Counting: Create a 1D array with 50 random integers between 1 and 10. Find the unique elements in the array and count their occurrences."
   ]
  },
  {
   "cell_type": "code",
   "execution_count": 129,
   "metadata": {},
   "outputs": [
    {
     "data": {
      "text/plain": [
       "array([8, 8, 5, 6, 9, 7, 7, 2, 5, 1, 6, 1, 3, 1, 2, 5, 8, 7, 5, 3, 6, 8,\n",
       "       5, 3, 1, 9, 3, 5, 5, 2, 9, 1, 5, 9, 9, 9, 5, 7, 8, 2, 1, 6, 8, 4,\n",
       "       1, 3, 2, 7, 4, 3])"
      ]
     },
     "execution_count": 129,
     "metadata": {},
     "output_type": "execute_result"
    }
   ],
   "source": [
    "arr = np.random.randint(low=1, high=10, size=50)\n",
    "arr"
   ]
  },
  {
   "cell_type": "code",
   "execution_count": 130,
   "metadata": {},
   "outputs": [
    {
     "data": {
      "text/plain": [
       "(array([1, 2, 3, 4, 5, 6, 7, 8, 9]),\n",
       " array([7, 5, 6, 2, 9, 4, 5, 6, 6], dtype=int64))"
      ]
     },
     "execution_count": 130,
     "metadata": {},
     "output_type": "execute_result"
    }
   ],
   "source": [
    "np.unique(arr, return_counts=True)"
   ]
  },
  {
   "cell_type": "markdown",
   "metadata": {},
   "source": [
    "Random Sampling: Generate a 1D array of 15 random integers between 1 and 20. Pick 5 random elements from this array without replacement."
   ]
  },
  {
   "cell_type": "code",
   "execution_count": 131,
   "metadata": {},
   "outputs": [
    {
     "data": {
      "text/plain": [
       "array([ 1,  8,  6, 19,  3])"
      ]
     },
     "execution_count": 131,
     "metadata": {},
     "output_type": "execute_result"
    }
   ],
   "source": [
    "arr = np.random.randint(low=1, high=20, size=15)\n",
    "np.random.choice(arr, replace=False, size=5)"
   ]
  },
  {
   "cell_type": "markdown",
   "metadata": {},
   "source": [
    "Dot Product and Vectorization: Create two 1D arrays a and b with 20 random integer values between 1 and 100. Compute their dot product using:\n",
    "\n",
    "A for loop.\n",
    "NumPy's built-in dot function. Verify that both methods yield the same result."
   ]
  },
  {
   "cell_type": "code",
   "execution_count": 132,
   "metadata": {},
   "outputs": [],
   "source": [
    "a = np.random.randint(low=1, high=100, size=20)\n",
    "b = np.random.randint(low=1, high=100, size=20)\n",
    "c = np.zeros(20)"
   ]
  },
  {
   "cell_type": "code",
   "execution_count": 133,
   "metadata": {},
   "outputs": [
    {
     "data": {
      "text/plain": [
       "(array([77, 59, 22, 24, 47, 84, 54, 52, 90, 37, 18, 78, 35, 38, 36, 59,  8,\n",
       "        30, 86, 24]),\n",
       " array([34, 51, 19, 46, 36, 12, 70, 82, 19, 45, 32, 92, 49,  9, 29,  3, 54,\n",
       "        87, 84, 88]))"
      ]
     },
     "execution_count": 133,
     "metadata": {},
     "output_type": "execute_result"
    }
   ],
   "source": [
    "a, b"
   ]
  },
  {
   "cell_type": "code",
   "execution_count": 134,
   "metadata": {},
   "outputs": [
    {
     "data": {
      "text/plain": [
       "44676"
      ]
     },
     "execution_count": 134,
     "metadata": {},
     "output_type": "execute_result"
    }
   ],
   "source": [
    "s = 0\n",
    "for i in range(20):\n",
    "    s += a[i] * b[i]\n",
    "s"
   ]
  },
  {
   "cell_type": "code",
   "execution_count": 135,
   "metadata": {},
   "outputs": [
    {
     "data": {
      "text/plain": [
       "44676"
      ]
     },
     "execution_count": 135,
     "metadata": {},
     "output_type": "execute_result"
    }
   ],
   "source": [
    "np.dot(a, b)"
   ]
  },
  {
   "cell_type": "markdown",
   "metadata": {},
   "source": [
    "Advanced Matrix Manipulation: Create a 4x4 matrix M with random integers between 10 and 50. Perform the following operations:\n",
    "\n",
    "Swap the first and last rows of the matrix."
   ]
  },
  {
   "cell_type": "markdown",
   "metadata": {},
   "source": [
    "Create Array"
   ]
  },
  {
   "cell_type": "code",
   "execution_count": 136,
   "metadata": {},
   "outputs": [
    {
     "data": {
      "text/plain": [
       "array([[28, 39, 22, 35],\n",
       "       [14, 33, 38, 11],\n",
       "       [49, 17, 11, 10],\n",
       "       [30, 41, 16, 45]])"
      ]
     },
     "execution_count": 136,
     "metadata": {},
     "output_type": "execute_result"
    }
   ],
   "source": [
    "arr = np.random.randint(low=10, high=50, size=(4, 4))\n",
    "arr"
   ]
  },
  {
   "cell_type": "code",
   "execution_count": 137,
   "metadata": {},
   "outputs": [],
   "source": [
    "arr[0, :], arr[-1, :] = arr[-1, :].copy(), arr[0, :].copy()"
   ]
  },
  {
   "cell_type": "code",
   "execution_count": 138,
   "metadata": {},
   "outputs": [
    {
     "data": {
      "text/plain": [
       "array([[30, 41, 16, 45],\n",
       "       [14, 33, 38, 11],\n",
       "       [49, 17, 11, 10],\n",
       "       [28, 39, 22, 35]])"
      ]
     },
     "execution_count": 138,
     "metadata": {},
     "output_type": "execute_result"
    }
   ],
   "source": [
    "arr"
   ]
  },
  {
   "cell_type": "markdown",
   "metadata": {},
   "source": [
    "Rotate the matrix 90 degrees clockwise.\n"
   ]
  },
  {
   "cell_type": "markdown",
   "metadata": {},
   "source": [
    "Using Loop"
   ]
  },
  {
   "cell_type": "code",
   "execution_count": 139,
   "metadata": {},
   "outputs": [
    {
     "data": {
      "text/plain": [
       "array([[22, 42, 48, 46],\n",
       "       [47, 35, 44, 46],\n",
       "       [14, 17, 24, 35],\n",
       "       [36, 31, 38, 46]])"
      ]
     },
     "execution_count": 139,
     "metadata": {},
     "output_type": "execute_result"
    }
   ],
   "source": [
    "matrix = np.array([\n",
    "    [46, 46, 35, 46],\n",
    "    [48, 44, 24, 38],\n",
    "    [42, 35, 17, 31],\n",
    "    [22, 47, 14, 36]\n",
    "])\n",
    "# result:\n",
    "#     [22, 42, 48, 46],\n",
    "#     [47, 35, 44, 46],\n",
    "#     [14, 17, 24, 35],\n",
    "#     [36, 31, 38, 46]\n",
    "\n",
    "rotated_matrix = np.zeros((4, 4), dtype=int)\n",
    "\n",
    "num_rows = matrix.shape[0]\n",
    "num_cols = matrix.shape[1]\n",
    "\n",
    "for row in range(num_rows):\n",
    "    for col in range(num_cols):\n",
    "        rotated_matrix[col][(num_rows - 1) - row] = matrix[row][col]\n",
    "\n",
    "rotated_matrix"
   ]
  },
  {
   "cell_type": "markdown",
   "metadata": {},
   "source": [
    "Using Methods"
   ]
  },
  {
   "cell_type": "code",
   "execution_count": 140,
   "metadata": {},
   "outputs": [
    {
     "data": {
      "text/plain": [
       "array([[46, 48, 42, 22],\n",
       "       [46, 44, 35, 47],\n",
       "       [35, 24, 17, 14],\n",
       "       [46, 38, 31, 36]])"
      ]
     },
     "execution_count": 140,
     "metadata": {},
     "output_type": "execute_result"
    }
   ],
   "source": [
    "matrix.T"
   ]
  },
  {
   "cell_type": "code",
   "execution_count": 141,
   "metadata": {},
   "outputs": [
    {
     "data": {
      "text/plain": [
       "array([[22, 42, 48, 46],\n",
       "       [47, 35, 44, 46],\n",
       "       [14, 17, 24, 35],\n",
       "       [36, 31, 38, 46]])"
      ]
     },
     "execution_count": 141,
     "metadata": {},
     "output_type": "execute_result"
    }
   ],
   "source": [
    "np.flip(matrix.T, axis=1)"
   ]
  },
  {
   "cell_type": "markdown",
   "metadata": {},
   "source": [
    "\n",
    "Set the diagonal elements to zero without modifying other elements."
   ]
  },
  {
   "cell_type": "code",
   "execution_count": 142,
   "metadata": {},
   "outputs": [
    {
     "data": {
      "text/plain": [
       "array([[ 0, 41, 16, 45],\n",
       "       [14,  0, 38, 11],\n",
       "       [49, 17,  0, 10],\n",
       "       [28, 39, 22,  0]])"
      ]
     },
     "execution_count": 142,
     "metadata": {},
     "output_type": "execute_result"
    }
   ],
   "source": [
    "for i in range(arr.shape[0]):\n",
    "    arr[i][i] = 0\n",
    "arr"
   ]
  },
  {
   "cell_type": "markdown",
   "metadata": {},
   "source": [
    "Complex Indexing: Generate a 7x7 matrix of random integers between 1 and 100. Extract all elements that form the border (i.e., the first and last rows and columns)."
   ]
  },
  {
   "cell_type": "code",
   "execution_count": 143,
   "metadata": {},
   "outputs": [
    {
     "data": {
      "text/plain": [
       "array([[87, 82, 72, 51, 21, 67, 41],\n",
       "       [49,  8, 48, 99,  6, 65, 69],\n",
       "       [57, 14, 80, 91, 28, 66, 89],\n",
       "       [89, 60, 14,  3, 60, 11, 78],\n",
       "       [40, 55, 14, 14, 55, 47, 16],\n",
       "       [99, 40, 70, 56, 26, 81, 20],\n",
       "       [10, 52, 54, 70, 46, 45, 63]])"
      ]
     },
     "execution_count": 143,
     "metadata": {},
     "output_type": "execute_result"
    }
   ],
   "source": [
    "arr = np.random.randint(low=1, high=100, size=(7, 7))\n",
    "arr"
   ]
  },
  {
   "cell_type": "code",
   "execution_count": 144,
   "metadata": {},
   "outputs": [
    {
     "data": {
      "text/plain": [
       "(array([87, 82, 72, 51, 21, 67, 41]),\n",
       " array([10, 52, 54, 70, 46, 45, 63]),\n",
       " array([87, 49, 57, 89, 40, 99, 10]),\n",
       " array([41, 69, 89, 78, 16, 20, 63]))"
      ]
     },
     "execution_count": 144,
     "metadata": {},
     "output_type": "execute_result"
    }
   ],
   "source": [
    "arr[0, :], arr[-1, :], arr[:, 0], arr[:, -1]"
   ]
  },
  {
   "cell_type": "markdown",
   "metadata": {},
   "source": [
    "Row and Column Operations: Create a 5x5 matrix with random integers between 1 and 20. Normalize each column such that the sum of each column is 1. (Hint: Use broadcasting for efficient computation.)"
   ]
  },
  {
   "cell_type": "markdown",
   "metadata": {},
   "source": [
    "num - min / max - min"
   ]
  },
  {
   "cell_type": "markdown",
   "metadata": {},
   "source": [
    "##### Normalize"
   ]
  },
  {
   "cell_type": "code",
   "execution_count": 145,
   "metadata": {},
   "outputs": [
    {
     "data": {
      "text/plain": [
       "array([[ 1, 11,  2, 17, 12],\n",
       "       [10, 11, 15, 11, 18],\n",
       "       [ 6, 15, 18, 15, 11],\n",
       "       [17,  6, 17, 17, 14],\n",
       "       [14,  3,  1,  5,  8]])"
      ]
     },
     "execution_count": 145,
     "metadata": {},
     "output_type": "execute_result"
    }
   ],
   "source": [
    "arr = np.random.randint(low=1, high=20, size=(5, 5))\n",
    "arr"
   ]
  },
  {
   "cell_type": "code",
   "execution_count": 146,
   "metadata": {},
   "outputs": [],
   "source": [
    "arr1 = np.zeros(shape=(5, 5))"
   ]
  },
  {
   "cell_type": "code",
   "execution_count": 147,
   "metadata": {},
   "outputs": [],
   "source": [
    "arr1 = (arr - arr.min(axis=0)) / (arr.max(axis=0) - arr.min(axis=0))"
   ]
  },
  {
   "cell_type": "code",
   "execution_count": 148,
   "metadata": {},
   "outputs": [
    {
     "data": {
      "text/plain": [
       "array([[0.        , 0.66666667, 0.05882353, 1.        , 0.4       ],\n",
       "       [0.5625    , 0.66666667, 0.82352941, 0.5       , 1.        ],\n",
       "       [0.3125    , 1.        , 1.        , 0.83333333, 0.3       ],\n",
       "       [1.        , 0.25      , 0.94117647, 1.        , 0.6       ],\n",
       "       [0.8125    , 0.        , 0.        , 0.        , 0.        ]])"
      ]
     },
     "execution_count": 148,
     "metadata": {},
     "output_type": "execute_result"
    }
   ],
   "source": [
    "arr1"
   ]
  },
  {
   "cell_type": "markdown",
   "metadata": {},
   "source": [
    "####"
   ]
  },
  {
   "cell_type": "code",
   "execution_count": 149,
   "metadata": {},
   "outputs": [
    {
     "name": "stdout",
     "output_type": "stream",
     "text": [
      "(1, 1)\n"
     ]
    }
   ],
   "source": [
    "index = 5\n",
    "shape = (3, 4)\n",
    "print(np.unravel_index(index, shape, order='C'))"
   ]
  },
  {
   "cell_type": "code",
   "execution_count": 150,
   "metadata": {},
   "outputs": [
    {
     "name": "stdout",
     "output_type": "stream",
     "text": [
      "(array([1, 1, 2], dtype=int64), array([1, 2, 3], dtype=int64))\n"
     ]
    }
   ],
   "source": [
    "flat_index = np.array([5, 6, 11])  # flat indices\n",
    "shape = (3, 4)  # 3 rows and 4 columns\n",
    "print(np.unravel_index(flat_index, shape, order='C'))"
   ]
  },
  {
   "cell_type": "markdown",
   "metadata": {},
   "source": [
    "Multiple Axis Stacking: Given three 1D arrays of the same length, arr1, arr2, and arr3, stack them along both the first and second axis to form a 3D array. Explain the difference between stacking along axis 0 and axis 1."
   ]
  },
  {
   "cell_type": "code",
   "execution_count": 151,
   "metadata": {},
   "outputs": [],
   "source": [
    "arr1 = np.arange(start=10, stop=20)\n",
    "arr2 = np.arange(start=20, stop=30)\n",
    "arr3 = np.arange(start=30, stop=40)"
   ]
  },
  {
   "cell_type": "code",
   "execution_count": 152,
   "metadata": {},
   "outputs": [
    {
     "data": {
      "text/plain": [
       "array([[10, 11, 12, 13, 14, 15, 16, 17, 18, 19],\n",
       "       [20, 21, 22, 23, 24, 25, 26, 27, 28, 29],\n",
       "       [30, 31, 32, 33, 34, 35, 36, 37, 38, 39]])"
      ]
     },
     "execution_count": 152,
     "metadata": {},
     "output_type": "execute_result"
    }
   ],
   "source": [
    "np.stack([arr1, arr2, arr3], axis=0)"
   ]
  },
  {
   "cell_type": "code",
   "execution_count": 153,
   "metadata": {},
   "outputs": [
    {
     "data": {
      "text/plain": [
       "array([[10, 20, 30],\n",
       "       [11, 21, 31],\n",
       "       [12, 22, 32],\n",
       "       [13, 23, 33],\n",
       "       [14, 24, 34],\n",
       "       [15, 25, 35],\n",
       "       [16, 26, 36],\n",
       "       [17, 27, 37],\n",
       "       [18, 28, 38],\n",
       "       [19, 29, 39]])"
      ]
     },
     "execution_count": 153,
     "metadata": {},
     "output_type": "execute_result"
    }
   ],
   "source": [
    "np.stack([arr1, arr2, arr3], axis=1)"
   ]
  },
  {
   "cell_type": "markdown",
   "metadata": {},
   "source": [
    "Custom Array Re-stacking: Given a 3D array of shape (2, 3, 4), stack slices of the array along a new axis to reshape it into (3, 2, 4, 1). How does the shape of the output change with each axis parameter in np.stack?"
   ]
  },
  {
   "cell_type": "code",
   "execution_count": 154,
   "metadata": {},
   "outputs": [
    {
     "name": "stdout",
     "output_type": "stream",
     "text": [
      "[6 4]\n",
      "10\n"
     ]
    }
   ],
   "source": [
    "array = np.array([6, 4])\n",
    "print(array)\n",
    "sum_of_elements = np.sum(array)\n",
    "print(sum_of_elements)"
   ]
  },
  {
   "cell_type": "code",
   "execution_count": 155,
   "metadata": {},
   "outputs": [],
   "source": [
    "arr1 = np.arange(start=10, stop=30).reshape(4, 5)\n",
    "arr2 = np.arange(start=30, stop=50).reshape(4, 5)"
   ]
  },
  {
   "cell_type": "code",
   "execution_count": 156,
   "metadata": {},
   "outputs": [
    {
     "data": {
      "text/plain": [
       "(array([[10, 11, 12, 13, 14],\n",
       "        [15, 16, 17, 18, 19],\n",
       "        [20, 21, 22, 23, 24],\n",
       "        [25, 26, 27, 28, 29]]),\n",
       " array([[30, 31, 32, 33, 34],\n",
       "        [35, 36, 37, 38, 39],\n",
       "        [40, 41, 42, 43, 44],\n",
       "        [45, 46, 47, 48, 49]]))"
      ]
     },
     "execution_count": 156,
     "metadata": {},
     "output_type": "execute_result"
    }
   ],
   "source": [
    "arr1, arr2"
   ]
  },
  {
   "cell_type": "code",
   "execution_count": 157,
   "metadata": {},
   "outputs": [
    {
     "data": {
      "text/plain": [
       "array([[10, 11, 12, 13, 14],\n",
       "       [15, 16, 17, 18, 19],\n",
       "       [20, 21, 22, 23, 24],\n",
       "       [25, 26, 27, 28, 29],\n",
       "       [30, 31, 32, 33, 34],\n",
       "       [35, 36, 37, 38, 39],\n",
       "       [40, 41, 42, 43, 44],\n",
       "       [45, 46, 47, 48, 49]])"
      ]
     },
     "execution_count": 157,
     "metadata": {},
     "output_type": "execute_result"
    }
   ],
   "source": [
    "np.vstack([arr1, arr2])"
   ]
  },
  {
   "cell_type": "code",
   "execution_count": 158,
   "metadata": {},
   "outputs": [
    {
     "data": {
      "text/plain": [
       "array([[10, 11, 12, 13, 14, 30, 31, 32, 33, 34],\n",
       "       [15, 16, 17, 18, 19, 35, 36, 37, 38, 39],\n",
       "       [20, 21, 22, 23, 24, 40, 41, 42, 43, 44],\n",
       "       [25, 26, 27, 28, 29, 45, 46, 47, 48, 49]])"
      ]
     },
     "execution_count": 158,
     "metadata": {},
     "output_type": "execute_result"
    }
   ],
   "source": [
    "np.hstack([arr1, arr2])"
   ]
  },
  {
   "cell_type": "markdown",
   "metadata": {},
   "source": [
    "Squeeze (remove single dimension)"
   ]
  },
  {
   "cell_type": "markdown",
   "metadata": {},
   "source": [
    "Removing Single Dimensions: Given a 3D array of shape (3, 1, 4), use squeeze to remove the single dimension. Verify the result by checking the shape of the output array."
   ]
  },
  {
   "cell_type": "code",
   "execution_count": 159,
   "metadata": {},
   "outputs": [
    {
     "data": {
      "text/plain": [
       "array([[[[10, 11, 12, 13, 14]],\n",
       "\n",
       "        [[15, 16, 17, 18, 19]],\n",
       "\n",
       "        [[20, 21, 22, 23, 24]],\n",
       "\n",
       "        [[25, 26, 27, 28, 29]]]])"
      ]
     },
     "execution_count": 159,
     "metadata": {},
     "output_type": "execute_result"
    }
   ],
   "source": [
    "arr = np.arange(start=10, stop=30).reshape(1, 4, 1, 5)\n",
    "arr"
   ]
  },
  {
   "cell_type": "code",
   "execution_count": 160,
   "metadata": {},
   "outputs": [
    {
     "data": {
      "text/plain": [
       "array([[10, 11, 12, 13, 14],\n",
       "       [15, 16, 17, 18, 19],\n",
       "       [20, 21, 22, 23, 24],\n",
       "       [25, 26, 27, 28, 29]])"
      ]
     },
     "execution_count": 160,
     "metadata": {},
     "output_type": "execute_result"
    }
   ],
   "source": [
    "np.squeeze(arr)"
   ]
  },
  {
   "cell_type": "code",
   "execution_count": 161,
   "metadata": {},
   "outputs": [
    {
     "data": {
      "text/plain": [
       "array([[10, 11, 12, 13, 14],\n",
       "       [15, 16, 17, 18, 19],\n",
       "       [20, 21, 22, 23, 24],\n",
       "       [25, 26, 27, 28, 29]])"
      ]
     },
     "execution_count": 161,
     "metadata": {},
     "output_type": "execute_result"
    }
   ],
   "source": [
    "arr.squeeze()"
   ]
  },
  {
   "cell_type": "markdown",
   "metadata": {},
   "source": [
    "Sliding Window Questions\n"
   ]
  },
  {
   "cell_type": "markdown",
   "metadata": {},
   "source": [
    "1D Sliding Window Sum: Create a function that, given a 1D array arr and a window size k, returns an array of the sums of each sliding window. Test the function with arr = [1, 2, 3, 4, 5, 6] and k = 3."
   ]
  },
  {
   "cell_type": "code",
   "execution_count": 162,
   "metadata": {},
   "outputs": [],
   "source": [
    "arr = [1, 2, 3, 4, 5, 6]\n",
    "k = 3"
   ]
  },
  {
   "cell_type": "code",
   "execution_count": 163,
   "metadata": {},
   "outputs": [
    {
     "data": {
      "text/plain": [
       "array([ 1,  3,  6, 10, 15, 21])"
      ]
     },
     "execution_count": 163,
     "metadata": {},
     "output_type": "execute_result"
    }
   ],
   "source": [
    "np.cumsum(arr)"
   ]
  },
  {
   "cell_type": "code",
   "execution_count": 164,
   "metadata": {},
   "outputs": [
    {
     "data": {
      "text/plain": [
       "array([  1,   2,   6,  24, 120, 720])"
      ]
     },
     "execution_count": 164,
     "metadata": {},
     "output_type": "execute_result"
    }
   ],
   "source": [
    "np.cumprod(arr)"
   ]
  },
  {
   "cell_type": "code",
   "execution_count": 165,
   "metadata": {},
   "outputs": [
    {
     "name": "stdout",
     "output_type": "stream",
     "text": [
      "6\n",
      "15\n"
     ]
    }
   ],
   "source": [
    "for i in range(0, len(arr), k):\n",
    "    print(sum(arr[i:k+i]))"
   ]
  },
  {
   "cell_type": "markdown",
   "metadata": {},
   "source": [
    "2D Sliding Window Mean: Given a 2D array arr of shape (5, 5), write a function to calculate the mean of all 2x2 sliding windows. How does the number of windows vary with different 2D shapes?"
   ]
  },
  {
   "cell_type": "code",
   "execution_count": 166,
   "metadata": {},
   "outputs": [
    {
     "name": "stdout",
     "output_type": "stream",
     "text": [
      "13.0\n",
      "14.0\n",
      "15.0\n",
      "16.0\n",
      "18.0\n",
      "19.0\n",
      "20.0\n",
      "21.0\n",
      "23.0\n",
      "24.0\n",
      "25.0\n",
      "26.0\n",
      "28.0\n",
      "29.0\n",
      "30.0\n",
      "31.0\n"
     ]
    }
   ],
   "source": [
    "arr = np.arange(start=10, stop=35).reshape(5, 5)\n",
    "for i in range(4):\n",
    "    for j in range(4):\n",
    "        print(arr[i:i+2, j:j+2].mean())"
   ]
  },
  {
   "cell_type": "code",
   "execution_count": 167,
   "metadata": {},
   "outputs": [
    {
     "name": "stdout",
     "output_type": "stream",
     "text": [
      "Original DataFrame:\n",
      "   A  B   C\n",
      "0  1  5  10\n",
      "1  2  4   9\n",
      "2  3  3   8\n",
      "3  4  2   7\n",
      "4  5  1   6\n",
      "\n",
      "DataFrame after applying pd.where:\n",
      "     A  B   C\n",
      "0  NaN  5  10\n",
      "1  NaN  4   9\n",
      "2  3.0  3   8\n",
      "3  4.0  2   7\n",
      "4  5.0  1   6\n"
     ]
    }
   ],
   "source": [
    "import pandas as pd\n",
    "\n",
    "# Sample DataFrame\n",
    "data = {\n",
    "    'A': [1, 2, 3, 4, 5],\n",
    "    'B': [5, 4, 3, 2, 1],\n",
    "    'C': [10, 9, 8, 7, 6]\n",
    "}\n",
    "df = pd.DataFrame(data)\n",
    "\n",
    "print(\"Original DataFrame:\")\n",
    "print(df)\n",
    "\n",
    "# Using pd.where to replace values in column 'A' that are less than 3 with NaN\n",
    "# df['A'] = df['A'].where(df['A'] >= 3)\n",
    "df['A'] = df['A'][df['A']>= 3]\n",
    "\n",
    "print(\"\\nDataFrame after applying pd.where:\")\n",
    "print(df)\n"
   ]
  },
  {
   "cell_type": "code",
   "execution_count": 168,
   "metadata": {},
   "outputs": [
    {
     "name": "stdout",
     "output_type": "stream",
     "text": [
      "\n",
      "DataFrame after applying pd.where:\n",
      "     A  B   C\n",
      "0  NaN  5  10\n",
      "1  NaN  4   9\n",
      "2  3.0  3   8\n",
      "3  4.0  2   7\n",
      "4  5.0  1   6\n"
     ]
    }
   ],
   "source": [
    "# Sample DataFrame\n",
    "data = {\n",
    "    'A': [1, 2, 3, 4, 5],\n",
    "    'B': [5, 4, 3, 2, 1],\n",
    "    'C': [10, 9, 8, 7, 6]\n",
    "}\n",
    "df = pd.DataFrame(data)\n",
    "df['A'] = df['A'][df['A']>= 3]\n",
    "\n",
    "print(\"\\nDataFrame after applying pd.where:\")\n",
    "print(df)"
   ]
  },
  {
   "cell_type": "code",
   "execution_count": 169,
   "metadata": {},
   "outputs": [
    {
     "data": {
      "text/html": [
       "<div>\n",
       "<style scoped>\n",
       "    .dataframe tbody tr th:only-of-type {\n",
       "        vertical-align: middle;\n",
       "    }\n",
       "\n",
       "    .dataframe tbody tr th {\n",
       "        vertical-align: top;\n",
       "    }\n",
       "\n",
       "    .dataframe thead th {\n",
       "        text-align: right;\n",
       "    }\n",
       "</style>\n",
       "<table border=\"1\" class=\"dataframe\">\n",
       "  <thead>\n",
       "    <tr style=\"text-align: right;\">\n",
       "      <th></th>\n",
       "      <th>A</th>\n",
       "      <th>B</th>\n",
       "      <th>C</th>\n",
       "    </tr>\n",
       "  </thead>\n",
       "  <tbody>\n",
       "    <tr>\n",
       "      <th>0</th>\n",
       "      <td>1</td>\n",
       "      <td>5</td>\n",
       "      <td>10</td>\n",
       "    </tr>\n",
       "    <tr>\n",
       "      <th>1</th>\n",
       "      <td>3</td>\n",
       "      <td>3</td>\n",
       "      <td>3</td>\n",
       "    </tr>\n",
       "    <tr>\n",
       "      <th>2</th>\n",
       "      <td>4</td>\n",
       "      <td>4</td>\n",
       "      <td>4</td>\n",
       "    </tr>\n",
       "    <tr>\n",
       "      <th>3</th>\n",
       "      <td>5</td>\n",
       "      <td>5</td>\n",
       "      <td>5</td>\n",
       "    </tr>\n",
       "    <tr>\n",
       "      <th>4</th>\n",
       "      <td>6</td>\n",
       "      <td>6</td>\n",
       "      <td>6</td>\n",
       "    </tr>\n",
       "  </tbody>\n",
       "</table>\n",
       "</div>"
      ],
      "text/plain": [
       "   A  B   C\n",
       "0  1  5  10\n",
       "1  3  3   3\n",
       "2  4  4   4\n",
       "3  5  5   5\n",
       "4  6  6   6"
      ]
     },
     "execution_count": 169,
     "metadata": {},
     "output_type": "execute_result"
    }
   ],
   "source": [
    "# Sample DataFrame\n",
    "data = {\n",
    "    'A': [1, 2, 3, 4, 5],\n",
    "    'B': [5, 4, 3, 2, 1],\n",
    "    'C': [10, 9, 8, 7, 6]\n",
    "}\n",
    "df = pd.DataFrame(data)\n",
    "# print(df['A'])\n",
    "df.apply(lambda x : x if x['A'] == 1 else x['A'] + 1,axis=1)"
   ]
  }
 ],
 "metadata": {
  "kernelspec": {
   "display_name": "Python 3",
   "language": "python",
   "name": "python3"
  },
  "language_info": {
   "codemirror_mode": {
    "name": "ipython",
    "version": 3
   },
   "file_extension": ".py",
   "mimetype": "text/x-python",
   "name": "python",
   "nbconvert_exporter": "python",
   "pygments_lexer": "ipython3",
   "version": "3.11.3"
  }
 },
 "nbformat": 4,
 "nbformat_minor": 2
}
